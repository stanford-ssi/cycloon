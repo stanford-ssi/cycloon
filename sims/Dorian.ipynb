{
 "cells": [
  {
   "cell_type": "code",
   "execution_count": null,
   "metadata": {},
   "outputs": [],
   "source": [
    "import habsim as hs\n",
    "from datetime import datetime, timezone"
   ]
  },
  {
   "cell_type": "code",
   "execution_count": null,
   "metadata": {},
   "outputs": [],
   "source": []
  },
  {
   "cell_type": "code",
   "execution_count": null,
   "metadata": {},
   "outputs": [],
   "source": [
    "help(hs.MovingTarget)"
   ]
  },
  {
   "cell_type": "code",
   "execution_count": null,
   "metadata": {},
   "outputs": [],
   "source": [
    "forecast = '''\n",
    "ADDED LINE AT VALID 28/1500Z 17.5N  64.5W \n",
    "\n",
    "FORECAST VALID 29/0000Z 18.7N  65.7W\n",
    "MAX WIND  65 KT...GUSTS  80 KT.\n",
    "64 KT... 15NE   0SE   0SW   0NW.\n",
    "50 KT... 30NE   0SE   0SW  10NW.\n",
    "34 KT... 70NE  30SE   0SW  30NW.\n",
    "\n",
    "FORECAST VALID 29/1200Z 20.5N  67.0W\n",
    "MAX WIND  65 KT...GUSTS  80 KT.\n",
    "64 KT... 15NE   0SE   0SW   0NW.\n",
    "50 KT... 30NE   0SE   0SW  10NW.\n",
    "34 KT... 70NE  30SE   0SW  30NW.\n",
    "\n",
    "FORECAST VALID 30/0000Z 22.4N  68.4W\n",
    "MAX WIND  70 KT...GUSTS  85 KT.\n",
    "64 KT... 15NE   0SE   0SW   0NW.\n",
    "50 KT... 30NE   0SE   0SW  10NW.\n",
    "34 KT... 70NE  30SE   0SW  30NW.\n",
    "\n",
    "FORECAST VALID 30/1200Z 24.2N  69.9W\n",
    "MAX WIND  75 KT...GUSTS  90 KT.\n",
    "64 KT... 20NE  10SE   0SW  10NW.\n",
    "50 KT... 30NE  20SE  10SW  20NW.\n",
    "34 KT... 70NE  50SE  30SW  50NW.\n",
    "\n",
    "FORECAST VALID 31/1200Z 26.5N  74.0W\n",
    "MAX WIND  90 KT...GUSTS 110 KT.\n",
    "50 KT... 40NE  30SE  20SW  30NW.\n",
    "34 KT... 80NE  70SE  40SW  60NW.\n",
    "\n",
    "EXTENDED OUTLOOK. NOTE...ERRORS FOR TRACK HAVE AVERAGED NEAR 150 NM\n",
    "ON DAY 4 AND 175 NM ON DAY 5...AND FOR INTENSITY NEAR 15 KT EACH DAY\n",
    "\n",
    "OUTLOOK VALID 01/1200Z 27.7N  77.7W\n",
    "MAX WIND 100 KT...GUSTS 120 KT.\n",
    "\n",
    "OUTLOOK VALID 02/1200Z 28.6N  80.3W\n",
    "MAX WIND 100 KT...GUSTS 120 KT.\n",
    "'''"
   ]
  },
  {
   "cell_type": "code",
   "execution_count": null,
   "metadata": {},
   "outputs": [],
   "source": [
    "\n",
    "def parse(forecast):\n",
    "    year = datetime.utcnow().year\n",
    "    lastday = 1\n",
    "    month = datetime.utcnow().month\n",
    "    traj = list()\n",
    "    for line in forecast.split('\\n'):\n",
    "        if 'VALID' in line:\n",
    "            line = line[line.find('VALID')+6:]\n",
    "            day = int(line[0:2])\n",
    "            if day < lastday: month += 1\n",
    "            lastday = day\n",
    "            hour = int(line[3:5])\n",
    "            lat = float(line[9:13])\n",
    "            lon = -float(line[16:20])\n",
    "            timeobject = datetime(year, month, day, hour).replace(tzinfo=timezone.utc).timestamp()\n",
    "            traj.append((timeobject, lat, lon))\n",
    "    return list(zip(*traj))\n"
   ]
  },
  {
   "cell_type": "code",
   "execution_count": null,
   "metadata": {},
   "outputs": [],
   "source": [
    "# 50 hours with waypoints at 5 hour intervals\n",
    "profile = hs.ControlledProfile(80, 10)\n",
    "\n",
    "# See docstring for argument details\n",
    "profile.initialize(1000, 5000, 30000, seed=[79.0, 5000, 9000])\n",
    "print(parse(forecast))\n",
    "dorian = hs.MovingTarget(*parse(forecast))\n",
    "\n",
    "pred = hs.Prediction(profile=profile, launchsite=hs.LaunchSite((37, -122)))\n",
    "pred.profile = profile"
   ]
  },
  {
   "cell_type": "code",
   "execution_count": null,
   "metadata": {},
   "outputs": [],
   "source": [
    "for i in range(20):\n",
    "    pred.run(model=1)\n",
    "    res = hs.util.optimize_step(pred, dorian, 5)\n",
    "    print(res)\n",
    "print(pred.profile.waypoints())\n",
    "plt = hs.ioutil.WebPlot()\n",
    "plt.origin(37, -122)\n",
    "plt.add(pred.split(), colors=hs.ioutil.RandomColorGenerator())\n",
    "plt.save('dorian.html')"
   ]
  },
  {
   "cell_type": "code",
   "execution_count": null,
   "metadata": {},
   "outputs": [],
   "source": []
  },
  {
   "cell_type": "code",
   "execution_count": null,
   "metadata": {},
   "outputs": [],
   "source": []
  }
 ],
 "metadata": {
  "kernelspec": {
   "display_name": "Python 3",
   "language": "python",
   "name": "python3"
  },
  "language_info": {
   "codemirror_mode": {
    "name": "ipython",
    "version": 3
   },
   "file_extension": ".py",
   "mimetype": "text/x-python",
   "name": "python",
   "nbconvert_exporter": "python",
   "pygments_lexer": "ipython3",
   "version": "3.6.8"
  }
 },
 "nbformat": 4,
 "nbformat_minor": 2
}
